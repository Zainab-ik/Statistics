{
 "cells": [
  {
   "cell_type": "code",
   "execution_count": 1,
   "metadata": {},
   "outputs": [],
   "source": [
    "import math "
   ]
  },
  {
   "cell_type": "code",
   "execution_count": 2,
   "metadata": {},
   "outputs": [],
   "source": [
    "Ann_GpVector= [4,2.9,3.7] "
   ]
  },
  {
   "cell_type": "code",
   "execution_count": 3,
   "metadata": {},
   "outputs": [],
   "source": [
    "def VectorAddition(v1,v2):\n",
    "    return [v1_i + v2_i for v1_i,v2_i in zip(v1,v2)] "
   ]
  },
  {
   "cell_type": "code",
   "execution_count": 4,
   "metadata": {},
   "outputs": [],
   "source": [
    "x=[2,5,9]\n",
    "y=[1,3,0]\n",
    "z=VectorAddition(x,y) "
   ]
  },
  {
   "cell_type": "code",
   "execution_count": 7,
   "metadata": {},
   "outputs": [
    {
     "name": "stdout",
     "output_type": "stream",
     "text": [
      "[3, 8, 9]\n"
     ]
    }
   ],
   "source": [
    "print(z)   "
   ]
  },
  {
   "cell_type": "code",
   "execution_count": 8,
   "metadata": {},
   "outputs": [],
   "source": [
    "def VectorSubstraction(v1,v2):\n",
    "    return [v1_i - v2_i for v1_i,v2_i in zip(v1,v2)] "
   ]
  },
  {
   "cell_type": "code",
   "execution_count": 9,
   "metadata": {},
   "outputs": [
    {
     "name": "stdout",
     "output_type": "stream",
     "text": [
      "[1, 2, 9]\n"
     ]
    }
   ],
   "source": [
    "w=VectorSubstraction(x,y)\n",
    "print(w) "
   ]
  },
  {
   "cell_type": "code",
   "execution_count": 10,
   "metadata": {},
   "outputs": [],
   "source": [
    "def ScalarMultiplication(scalar,vector): \n",
    "    return [scalar*v for v in vector] "
   ]
  },
  {
   "cell_type": "code",
   "execution_count": 11,
   "metadata": {},
   "outputs": [
    {
     "name": "stdout",
     "output_type": "stream",
     "text": [
      "[9, 24, 27]\n"
     ]
    }
   ],
   "source": [
    "m=ScalarMultiplication(3,z)\n",
    "print(m) "
   ]
  },
  {
   "cell_type": "code",
   "execution_count": 15,
   "metadata": {},
   "outputs": [],
   "source": [
    "def DotProduct(v1,v2):\n",
    "    \"\"\"v1_1*v2_1 + v1_2*v2_2 + ... +v1_n*v2_n \"\"\"\n",
    "    return sum(v1_i*v2_i for v1_i,v2_i in zip(v1,v2)) "
   ]
  },
  {
   "cell_type": "code",
   "execution_count": 16,
   "metadata": {},
   "outputs": [],
   "source": [
    "v=DotProduct(m,x)"
   ]
  },
  {
   "cell_type": "code",
   "execution_count": 17,
   "metadata": {},
   "outputs": [
    {
     "name": "stdout",
     "output_type": "stream",
     "text": [
      "381\n"
     ]
    }
   ],
   "source": [
    "print(v) "
   ]
  },
  {
   "cell_type": "code",
   "execution_count": 18,
   "metadata": {},
   "outputs": [],
   "source": [
    "def SumOfSquares(v):\n",
    "    \"\"\"v_1*v_1 + v_2*v_2 + ... + v_n*v_n\"\"\"\n",
    "    return DotProduct(v,v)"
   ]
  },
  {
   "cell_type": "code",
   "execution_count": 19,
   "metadata": {},
   "outputs": [
    {
     "name": "stdout",
     "output_type": "stream",
     "text": [
      "1386\n"
     ]
    }
   ],
   "source": [
    "n=SumOfSquares(m)\n",
    "print(n) "
   ]
  },
  {
   "cell_type": "code",
   "execution_count": 20,
   "metadata": {},
   "outputs": [
    {
     "name": "stdout",
     "output_type": "stream",
     "text": [
      "37.22902093797257\n"
     ]
    }
   ],
   "source": [
    "def Magnitude(v):\n",
    "    return math.sqrt(SumOfSquares(v))\n",
    "print(Magnitude(m)) "
   ]
  },
  {
   "cell_type": "code",
   "execution_count": 22,
   "metadata": {},
   "outputs": [
    {
     "name": "stdout",
     "output_type": "stream",
     "text": [
      "24.819347291981714\n"
     ]
    }
   ],
   "source": [
    "def DistanceBetweenVector(v1,v2):\n",
    "    return math.sqrt(SumOfSquares(VectorSubstraction(v1,v2)))\n",
    "print(DistanceBetweenVector(m,z)) "
   ]
  }
 ],
 "metadata": {
  "kernelspec": {
   "display_name": "Python 3",
   "language": "python",
   "name": "python3"
  },
  "language_info": {
   "codemirror_mode": {
    "name": "ipython",
    "version": 3
   },
   "file_extension": ".py",
   "mimetype": "text/x-python",
   "name": "python",
   "nbconvert_exporter": "python",
   "pygments_lexer": "ipython3",
   "version": "3.7.1"
  }
 },
 "nbformat": 4,
 "nbformat_minor": 2
}
